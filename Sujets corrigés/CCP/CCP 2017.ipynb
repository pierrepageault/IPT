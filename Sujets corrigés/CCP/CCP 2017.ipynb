{
 "cells": [
  {
   "cell_type": "markdown",
   "metadata": {},
   "source": [
    "## Etude des modes jeu et statistiques"
   ]
  },
  {
   "cell_type": "markdown",
   "metadata": {},
   "source": [
    "### Partie graphique du mode jeu"
   ]
  },
  {
   "cell_type": "markdown",
   "metadata": {},
   "source": [
    "**Q1.** L'image se trouve dans le répertoire \"C:/CCP\" et s'appelle \"stade.bmp\". Il suffit dès lors d'utiliser les rappels de l'annexe 1."
   ]
  },
  {
   "cell_type": "code",
   "execution_count": null,
   "metadata": {
    "code_folding": [],
    "hide_input": false
   },
   "outputs": [],
   "source": [
    "# Solution\n",
    "\n",
    "import os\n",
    "\n",
    "#L'image se trouve dans le répertoire \"C:/CCP\"\n",
    "os.chdir('C:/CCP')\n",
    "\n",
    "import scipy.misc as scm\n",
    "\n",
    "# L'image s'appelle \"stade.bmp\" et doit être chargée dans une variable nommée image_terrain\n",
    "image_terrain = scm.imread(\"stade.bpm\")\n",
    "scm.imshow(image_terrain)"
   ]
  },
  {
   "cell_type": "markdown",
   "metadata": {},
   "source": [
    "* *la fonction `imread` est obslète à partir de la version 1.2.0 de `scipy`. Il faut utiliser la fonction `imageio.imread` du module `imageio` comme indiqué dans l'aide de la fonction accessible via la commande `help(scm.read)`.*\n",
    "* *Il y a une erreur dans le code de l'annexe ligne 7, il faut lire `scm.imshow(picture)`.*\n",
    "* *Une image est un exemple de tableau numpy (de type `ndarray`) de dimension 3.*"
   ]
  },
  {
   "cell_type": "markdown",
   "metadata": {},
   "source": [
    "**Q2.** La longeur d'une image correspond au nombre de colonnes i.e. à la deuxième valeur renvoyée par la commande `shape` rappelée en annexe. La largeur correspond elle au nombre de lignes, donc à la première valeur. Pour afficher le résultat, il faut utiliser le formatage des chaînes de caractères, rappelé dans l'annexe 1."
   ]
  },
  {
   "cell_type": "code",
   "execution_count": null,
   "metadata": {},
   "outputs": [],
   "source": [
    "# dimensions de l'image\n",
    "dim_long = image_terrain.shape[1]\n",
    "dim_larg = image_terrain.shape[0]\n",
    "\n",
    "# formatage d'une chaine de caractères\n",
    "print(\"%d x %d\"%(dim_long,dim_larg))"
   ]
  },
  {
   "cell_type": "markdown",
   "metadata": {},
   "source": [
    "* *L'emplacement réservé `%d` est utilisé pour insérer un entier. Il existe aussi :*\n",
    "    - `%s` *pour insérer une chaine de caractères,*\n",
    "    - `%f` *pour insérer un flottant.*\n",
    "* *Il est préférable d'utiliser la méthode `.format` des chaines de caractères :*\n",
    "    \n",
    "        \"{} x {}\".format(dim_long,dim_larg)"
   ]
  },
  {
   "cell_type": "markdown",
   "metadata": {},
   "source": [
    "**Q3.** Cette question est très vague : on ne sait pas vraiment s'il faut éviter les lignes, on ne connait pas les dimensions de l'image et surtout, une fonction ne renvoit pas une variable... (elle pourrait éventuellement modifier une variable globale nommée `coul_ter`). Voici l'extrait du rapport du jury : \n",
    "\n",
    "*\"Il s’agissait ici de vérifier que les candidats étaient capables de récupérer une valeur dans un tableau\n",
    "à partir d’indices calculés. Beaucoup oublient que ces indices doivent être entiers.\"*\n",
    "\n",
    "On se contente donc de la fonction suivante, la plus \"naturelle\" :"
   ]
  },
  {
   "cell_type": "code",
   "execution_count": null,
   "metadata": {},
   "outputs": [],
   "source": [
    "# Les dimensions de l'image doivent être stockées dans les variables dim_long et dim_larg\n",
    "\n",
    "def coul(image):\n",
    "    \n",
    "    # Centre (entier) du terrain\n",
    "    centre = dim_long//2, dim_larg//2\n",
    "    \n",
    "    return image[centre]\n",
    "\n",
    "# Stockage de la couleur du terrain dans la variable coul_ter\n",
    "coul_ter = coul(image_terrain)"
   ]
  },
  {
   "cell_type": "markdown",
   "metadata": {},
   "source": [
    "*Les commandes `a//b` et `a%b` renvoient respectivement le quotient et le reste de la division euclidienne de `a:int` par `b:int`. Ce sont deux entiers.*  "
   ]
  },
  {
   "cell_type": "markdown",
   "metadata": {},
   "source": [
    "**Q4.** Conformément aux rappels de l'annexe 1, la variable `coul_ter` est un triplet. *En fait, la terminologie utilisée par l'annexe 1 n'est pas la bonne car il s'agit en fait de tableau numpy et non de tuples.*  Il faut un octet ($8$ bits) pour stocker un entier entre $0$ et $255$. Pusiqu'on doit stocker un triplet de tels entiers, il faut $3$ octets i.e. 24 bits."
   ]
  },
  {
   "cell_type": "markdown",
   "metadata": {},
   "source": [
    "**Q5.** La encore, cette fonction est très imprécise : doit on stocker le blanc de l'image, le blanc absolu correspondant au triplet $[255,255,255]$ ?... On fera donc au plus simple. Le rapport du jury précise : *\"l'objectif était de réutiliser la fonction précédente et le tableau image\"*."
   ]
  },
  {
   "cell_type": "code",
   "execution_count": null,
   "metadata": {},
   "outputs": [],
   "source": [
    "def maillot(image):\n",
    "    \n",
    "    # Couleur du terrain\n",
    "    coul_ter = coul(image)\n",
    "    \n",
    "    # blanc\n",
    "    blanc = [255,255,255]\n",
    "    \n",
    "    return [coul_ter, blanc]"
   ]
  },
  {
   "cell_type": "markdown",
   "metadata": {},
   "source": [
    "### Partie graphique du mode statistique"
   ]
  },
  {
   "cell_type": "markdown",
   "metadata": {},
   "source": [
    "**Q6.** Ici encore cette question n'est pas assez précise. Par exemple, si $A$ est de taille $4$, on ne sait pas quelle matrice prendre pour entourer $b_{ij}$. Ceci est vrai dès que $A$ est de taille paire. On va donc considérer que $A$ est de taille *impaire*. Les questions **Q6.** et **Q7.** nécessitent d'utiliser le *slicing multi-dimensionnel* qui permet d'extraire une partie d'un tableau. La syntaxe générale du slicing est : \n",
    "\n",
    "    L[debut:fin:pas] # Extraire de L les termes d'indice \"debut\" (inclu) à \"fin\" (exclu) avec un pas de \"pas\".\n",
    "\n",
    "où `début` et `fin` peuvent prendre des valeurs vides (remplacées par $0$), tandis que `:pas` est optionnel."
   ]
  },
  {
   "cell_type": "code",
   "execution_count": 24,
   "metadata": {},
   "outputs": [],
   "source": [
    "# On suppose que la bibliotèque numpy a été importée et surnomée np\n",
    "\n",
    "def filtrer1(filtreA,matB):\n",
    "    nA = filtreA.shape[0]\n",
    "    nB_ligneB = matB.shape[0] # Règle du licol\n",
    "    nB_colonneB = matB.shape[1]\n",
    "    C = matB.copy() # initialisation de la matrice C (les colonnes et lignes non modifiées seront celles de B)\n",
    "    bordure = nA//2 # Il ne faut pas modifier les nA//2 lignes et colonnes du bord\n",
    "    for i in range(bordure,nB_ligneB-bordure):\n",
    "        for j in range(bordure,nB_colonneB-bordure):\n",
    "            Bij = matB[i-bordure:i+bordure+1,j-bordure:j+bordure+1]# slicing multi-dimensionnel\n",
    "            C[i,j] = np.sum(Bij.dot(A)) \n",
    "    return C"
   ]
  },
  {
   "cell_type": "markdown",
   "metadata": {},
   "source": [
    "**Q7.** On va utiliser la question précédente pour traiter les trois matrices constituant une image."
   ]
  },
  {
   "cell_type": "code",
   "execution_count": null,
   "metadata": {},
   "outputs": [],
   "source": [
    "def filtrer(filtreA,matB):\n",
    "    C = matB.copy() # C a la même taille que B\n",
    "    \n",
    "    # Mise a jour de C\n",
    "    for i in range(3):\n",
    "        C[:,:,i] = filtrer1(filtreA,matB[:,:,i])\n",
    "    return C"
   ]
  },
  {
   "cell_type": "markdown",
   "metadata": {
    "slideshow": {
     "slide_type": "slide"
    }
   },
   "source": [
    "* *si B est un tableau numpy de dimension 3, de taille $n\\times p\\times 3$,* `B[:,:,i]` *est un tableau numpy de dimension 2 (une matrice), de taile $n\\times p$.*\n",
    "* *il a une erreur dans la méthode proposée. Pour moyenner sur les pixels voisins, il ne faut pas prendre la somme des coefficients de $C$, mais la somme des coefficients diagonaux de $C$ i.e. la trace de $C$ car $\\sum b_{ij}a_{ij} = Tr(A^TB)$.*"
   ]
  },
  {
   "cell_type": "markdown",
   "metadata": {},
   "source": [
    "**Q8.** Pour cette question, il faut faire un dessin avec les valeurs de $x$ et $y$ sur l'exemple donné."
   ]
  },
  {
   "cell_type": "code",
   "execution_count": 116,
   "metadata": {},
   "outputs": [],
   "source": [
    "def matriceFlouGaussien(taille, sigma):\n",
    "    \"\"\"\n",
    "    taille : taille de la matrice (impaire)\n",
    "    sigma : écart type (déviation standard)\n",
    "    retourne un niveau gaussien \n",
    "    \"\"\"\n",
    "    mat = np.zeros([taille,taille]) # usuellement l'argument de np.zeros est plutôt un tuples...\n",
    "    taille = taille//2\n",
    "    for x in range(-taille, taille+1):\n",
    "        for y in range(-taille, taille + 1):\n",
    "            mat[x + taille,y + taille] = 1/(sigma*np.sqrt(2*np.pi))*np.exp(-(x**2 + y**2)/(2*sigma**2))                                                                       \n",
    "    return mat/(np.sum(mat)) # Normalisation"
   ]
  },
  {
   "cell_type": "markdown",
   "metadata": {},
   "source": [
    "**Q9.** Il suffit d'appliquer les fonctions précédement construites :"
   ]
  },
  {
   "cell_type": "code",
   "execution_count": null,
   "metadata": {
    "slideshow": {
     "slide_type": "fragment"
    }
   },
   "outputs": [],
   "source": [
    "def FloutageGaussien(tabPix, taille, sigma):\n",
    "    \n",
    "    # Construction du filtre\n",
    "    filtreA = matriceFlouGaussien(taille, sigma)\n",
    "    \n",
    "    # Filtrage\n",
    "    return filtrer(filtreA,tabPix)"
   ]
  },
  {
   "cell_type": "markdown",
   "metadata": {},
   "source": [
    "### Fonctionnalités du mode statistique"
   ]
  },
  {
   "cell_type": "markdown",
   "metadata": {},
   "source": [
    "**Q10**. C'est une simple question de *slicing* puisqu'il s'agit d'extraire des colonnes de la matrice *résultat*."
   ]
  },
  {
   "cell_type": "code",
   "execution_count": null,
   "metadata": {},
   "outputs": [],
   "source": [
    "# x\n",
    "x = resultat[:,0] \n",
    "\n",
    "#y_plaR\n",
    "y_plaR = resultat[:,3]"
   ]
  },
  {
   "cell_type": "markdown",
   "metadata": {},
   "source": [
    "**Q11.** Ici encore, on ne comprend pas vraiment ce que demande l'énoncé... Pour que la commande de l'exemple fnctionne, on a `concaténer` les différentes valeurs pour construire les différentes listes. Puisque les valeurs extrèmes sont incluses, on va utiliser la commande `linspace` du module `numpy`."
   ]
  },
  {
   "cell_type": "code",
   "execution_count": 105,
   "metadata": {},
   "outputs": [],
   "source": [
    "# Listes pour l'histogramme\n",
    "\n",
    "# initialisation\n",
    "barre = []\n",
    "abscisse = []\n",
    "\n",
    "for i in range(len(x)):\n",
    "    num = int((y_plaR[i] - 0)/0.1) + 1 # Faire un dessin\n",
    "    valeurs_barre = list(np.linspace(0,y_plaR[i],num)) # La commande '+' permet de concaténer des listes,\n",
    "                                                       # pas des tableaux numpy.\n",
    "    valeurs_abscisse = list(x[i]*np.ones(len(valeurs_barre)))\n",
    "    barre = barre + valeurs_barre\n",
    "    abscisse = abscisse + valeurs_abscisse"
   ]
  },
  {
   "cell_type": "markdown",
   "metadata": {},
   "source": [
    "**Q12** Il s'agit d'une question classique d'algorithme. Il est sous-entendu ici que l'on s'interdira d'utiliser les fonctions existantes `min`, `max` et `sum`. "
   ]
  },
  {
   "cell_type": "code",
   "execution_count": 112,
   "metadata": {},
   "outputs": [],
   "source": [
    "def minMaxMoy(valeurs):\n",
    "    \n",
    "    #initialisation\n",
    "    Min, Max, s = valeurs[0], valeurs[0], 0\n",
    "    \n",
    "    for x in valeurs :\n",
    "        if x < Min:\n",
    "            Min = x\n",
    "        if x > Max:\n",
    "            Max = x\n",
    "        s = s + x\n",
    "    \n",
    "    # Calcule de la moyenne\n",
    "    Moy = s/len(valeurs)\n",
    "    \n",
    "    return Min, Max, Moy"
   ]
  },
  {
   "cell_type": "markdown",
   "metadata": {},
   "source": [
    "## Traitement du transfert des joueurs"
   ]
  },
  {
   "cell_type": "markdown",
   "metadata": {},
   "source": [
    "**Q13.** Il faut bien connaître les [*opérateurs de comparaison*](https://sql.sh/cours/where) en SQL que l'on utilise avec le mot clé `WHERE`."
   ]
  },
  {
   "cell_type": "markdown",
   "metadata": {},
   "source": [
    "    SELECT Nom FROM Joueurs WHERE VMA > 13 AND Age > 23"
   ]
  },
  {
   "cell_type": "markdown",
   "metadata": {},
   "source": [
    "*Il n'est pas très rigoureux de la part de l'énoncé de ne pas préciser le type des attributs des tables.*"
   ]
  },
  {
   "cell_type": "markdown",
   "metadata": {},
   "source": [
    "**Q14.** Les informations nécessaires sont présentes dans plusieurs tables. Il va donc falloir effectuer une jointure. Ici encore, l'énoncé manque de rigueur car aucune clé primaire ni étrangère ne sont précisées.  \n",
    "\n",
    "    SELECT Clubs.Nom \n",
    "    FROM Clubs \n",
    "        JOIN Joueurs ON Clubs.Id_Club = Joueurs.Id_Club\n",
    "    WHERE Salaire euros > 30 000\n",
    "    \n",
    "On va ensuite compter un nombre, donc utiliser la fonction d'agrgégation `COUNT`.\n",
    "\n",
    "    SELECT COUNT(Joueurs.Nom)\n",
    "    FROM Joueurs\n",
    "        JOIN Clubs ON Joueurs.Id_Club = Clubs.Id_Club\n",
    "    WHERE Clubs.Nom = 'Stade Toulousain' AND Poste = 'Talonneur'"
   ]
  },
  {
   "cell_type": "markdown",
   "metadata": {},
   "source": [
    "**Q15** On va de même utiliser la fonction d'agrégation `SUM` et donc un `GROUP BY` (par nom de club).\n",
    "\n",
    "        SELECT Clubs.Nom, SUM(Salaire euros)/Budget total * 100\n",
    "        FROM Clubs \n",
    "            JOINS Joueurs ON Clubs.Id_Club = Joueurs.Id_Club\n",
    "        GROUP BY Clubs.Nom"
   ]
  },
  {
   "cell_type": "markdown",
   "metadata": {},
   "source": [
    "## Evaluation des performances de l'équipe"
   ]
  },
  {
   "cell_type": "markdown",
   "metadata": {},
   "source": [
    "**Q16.** Il est impossible de donner la réponse à cette question sans disposer de l'aide de la métode [`fetchall`](https://dev.mysql.com/doc/connector-python/en/connector-python-api-mysqlcursor-fetchall.html) ! Peut être s'agit-il d'un type propre à l'extension `sqlite3`, comme les tableaux de type `ndarray` du module `numpy`... Ici, la réponse attendue était une \"liste\". Le rapport précise que l'on pouvait deviner cette réponse en lisant par exemple le code de la question **Q17**... Le type du résultat effectivement renvoyé par `fetchall` est une *liste (de tuples).*"
   ]
  },
  {
   "cell_type": "markdown",
   "metadata": {},
   "source": [
    "**Q17.** Il faut remplacer la ligne 7 par `for i in range(len(liste))` et remplacer le `>` de la ligne 10 par un `<`. La question est mal écrite car on a l'impression qu'il faut aussi modifier l'appel de la fonction, qui est correct. "
   ]
  },
  {
   "cell_type": "markdown",
   "metadata": {},
   "source": [
    "**Q18.** Notons $n$ la taille de la liste à trier. Il y a deux boucles `for` imbriquées. La première boucle est parcouru $n$ fois, la seconde boucle est parcouru $n-1$, puis $n-2$,..., puis $1$ fois.   Dans le pire des cas (liste rangée dans l'ordre décroissant), l'appel à la fonction `echange` est systèmatique dans la deuxième boucle. Cette fonction a une complexité *constante* (indépendante de $n$). Au final, la complexité est donc en :\n",
    "$$\n",
    "n\\times\\left(\\sum_{k=1}^{n-1} O(1)\\right) = n\\times \\frac{n(n-1)}{2}\\times O(1) =O(n^2).\n",
    "$$\n",
    "Il s'agt donc d'une complexité *quadratique*. C'est une complexité assez importante, qui ne permet pas de manipuler des données trop grandes (cf https://fr.wikipedia.org/wiki/Analyse_de_la_complexité_des_algorithmes ), mais qui n'est pas du tout rédibitoire pour classer une équipe de foot.  "
   ]
  },
  {
   "cell_type": "markdown",
   "metadata": {},
   "source": [
    "**Q19.** Il s'agit de l'algotithme de [tri rapide](https://fr.wikipedia.org/wiki/Tri_rapide).  \n",
    "* la ligne 19 détecte si $i=j$ i.e. si le pivot $k$ a atteint une des extrémités. Dans ce cas, le sous-tableau à trier possède un seul élément, il est donc trié,  \n",
    "* la ligne 20 fait appelle à la fonction `segmente` qui place l'élément $i$ à sa place définitive et définit le nouveau pivot $k$,\n",
    "* les lignes 21 et 22 trient les deux sous-tableaux situés à droite et à gauche du pivot,\n",
    "* la ligne 23 renvoie la liste triée.  \n",
    "La fonction `tri_2` est une fonction *récursive*. Pour compter le nombre d'appels récursifs, il faut incrémenter un compteur à chaque appel de la fonction. Cependant, pour garder trace de ce compteur hors de la fonction (lors des appels succesifs), il faut que cette variable soit déclarée comme `globale` :"
   ]
  },
  {
   "cell_type": "code",
   "execution_count": 2,
   "metadata": {},
   "outputs": [
    {
     "name": "stdout",
     "output_type": "stream",
     "text": [
      "0\n"
     ]
    }
   ],
   "source": [
    "# Variable globale\n",
    "global compteur\n",
    "\n",
    "# Initialistion\n",
    "compteur = 0\n",
    "\n",
    "def tri_2(L,val,i,j):\n",
    "    compteur += 1 # Incrémentation du compteur\n",
    "    if i<j:\n",
    "        k = segmente(L,val,i,j)\n",
    "        tri_2(L,val,i,k-1)\n",
    "        tri_2(L,val,k+1,j)\n",
    "    return compteur"
   ]
  },
  {
   "cell_type": "markdown",
   "metadata": {},
   "source": [
    "**Q20.** Si on veut trier en fonction du poids des joueurs, alors `val = 3` car le poids correspond à la 4ieme colonne (indide n°3). On utilise donc le code suivant :\n",
    "\n",
    "    tri_2(monequipe,3,0,len(monequipe))"
   ]
  },
  {
   "cell_type": "markdown",
   "metadata": {},
   "source": [
    "**Q21.** On a $74 =(1001010)_2$ et $0.25 = (0.01)_2$ donc $74.25 = (1001010.01)_2$.  "
   ]
  },
  {
   "cell_type": "markdown",
   "metadata": {},
   "source": [
    "**Q22.**  Pour des rappels sur la représentation des réels en virgule flottante et la norme IEEE754, voir https://fr.wikipedia.org/wiki/IEEE_754. On a $74.25 = (1001010.01)_2 = 1.00101001\\times 2^6$. C'est un nombre flottant normalisée : la mantisse se lit à droite de la virgule (complétée par des $0$), elle vaut $001 0100 1000 0000 0000$. L'exposant décalé vaut $6+127 = 133 = (10000101)_2$. Puisque $74.25$ est positif, la représentation de $74.25$ suivant la norme IEEE 754 32 bits est : \n",
    "$$\n",
    "74.25 = 0\\ 10000101\\ 001\\ 0100\\ 1000\\ 0000\\ 0000\n",
    "$$"
   ]
  },
  {
   "cell_type": "markdown",
   "metadata": {},
   "source": [
    "Il y a trois caractériqtiques à stocker par jouers, donc $3000\\times 3$ flottants de $32$ bits. Ceci représente environ $288$ $ko$ de données. Le format simple précision est *moins gourmand en espace de stockage* que le double précision. Par contre il est *moins précis* ($7$ chiffres significatifs contre $16$)."
   ]
  },
  {
   "cell_type": "markdown",
   "metadata": {},
   "source": [
    " ## Entrainement à la passe vissée au rugby"
   ]
  },
  {
   "cell_type": "markdown",
   "metadata": {},
   "source": [
    "**Q24.** Ici encore, l'idée semble être d'éviter de se servire des fonctions du module numpy qui sont parfaitement adaptées pour ce type de tâches... Encore une fois, cette question est ambigüe. Par exemple, on ne sait pas si `tmax` doit être inclu dans la liste renvoyée comme le fait la fonction `linspace` du module `numpy`, ou exclu, comme la fonction `arange`. Puisque cette dernière est défini à l'aide d'un pas, nous allons la copier, et à priori exclure `tmax` (sauf si c'est un multiple entier de pas). "
   ]
  },
  {
   "cell_type": "code",
   "execution_count": 5,
   "metadata": {},
   "outputs": [],
   "source": [
    "def liste_temps(pas, temps):\n",
    "    L = []\n",
    "    for i in range(int(temps/pas)+1): # Attention, l'argument de la fonction int() doit être un entier\n",
    "        L.append(i* pas)\n",
    "    return L"
   ]
  },
  {
   "cell_type": "markdown",
   "metadata": {},
   "source": [
    "**Q25.** Il s'agit d'une équation différentielle linéaire du première ordre, non-homogène. En remarquant que $v = K_cU_0$ est une solution particulière, on a d'après le cours : \n",
    "$$\n",
    "\\boxed{\\forall t\\geqslant 0,\\ v(t) = K_cU_0(1-e^{-\\frac{t}{\\tau}}).}\n",
    "$$\n",
    "La suite de la question peut alors se traiter classiquement, à l'aide d'une compréhension de liste :"
   ]
  },
  {
   "cell_type": "code",
   "execution_count": 10,
   "metadata": {},
   "outputs": [],
   "source": [
    "def vitesse(k,tau,u,temps):\n",
    "    return [k*u*(1-np.exp(t/tau)) for t in temps]"
   ]
  },
  {
   "cell_type": "markdown",
   "metadata": {},
   "source": [
    "**Q26.** Bizarement, les notations changent d'une question à l'autre : $u$ est maintenant appelé $U_0$ et $k$ devient $K_c$. De plus, *temps* est maintenant une liste alors que c'était un réel à la question **Q24.** ... Quoi qu'il en soit, il faut parfaitement connaître et savoir mettre en oeuvre la méthode d'Euler. "
   ]
  },
  {
   "cell_type": "code",
   "execution_count": 22,
   "metadata": {},
   "outputs": [],
   "source": [
    "def ordre1_euler(Kc, tau, U0, temps):\n",
    "    \n",
    "    # Définition du pas de temps et de la vitesse initiale\n",
    "    pas = temps[1]-temps[0]\n",
    "    vitesse =[0]\n",
    "    \n",
    "    # Algorithme d'Euler\n",
    "    for t in temps[1:]: # On connait la vitesse à t = 0\n",
    "        vitesse_suivante = pas*(1/tau*(Kc*U0 - vitesse[-1])) + vitesse[-1] # Règle d'accès inversé\n",
    "        vitesse.append(vitesse_suivante)\n",
    "        \n",
    "    return vitesse"
   ]
  },
  {
   "cell_type": "markdown",
   "metadata": {},
   "source": [
    "**Q27.** On va utiliser trois fois les fonctions précédentes dans une boucle, et stoker les $3$ résultats (de temps et de vitesse) dans deux listes `temps` et  `vitesse`."
   ]
  },
  {
   "cell_type": "code",
   "execution_count": 13,
   "metadata": {},
   "outputs": [
    {
     "ename": "NameError",
     "evalue": "name 'liste_temps' is not defined",
     "output_type": "error",
     "traceback": [
      "\u001b[1;31m---------------------------------------------------------------------------\u001b[0m",
      "\u001b[1;31mNameError\u001b[0m                                 Traceback (most recent call last)",
      "\u001b[1;32m<ipython-input-13-f953f259f031>\u001b[0m in \u001b[0;36m<module>\u001b[1;34m\u001b[0m\n\u001b[0;32m      3\u001b[0m \u001b[1;33m\u001b[0m\u001b[0m\n\u001b[0;32m      4\u001b[0m \u001b[1;32mfor\u001b[0m \u001b[0mpas\u001b[0m \u001b[1;32min\u001b[0m \u001b[0mliste_pas\u001b[0m \u001b[1;33m:\u001b[0m\u001b[1;33m\u001b[0m\u001b[1;33m\u001b[0m\u001b[0m\n\u001b[1;32m----> 5\u001b[1;33m     \u001b[0mtemps\u001b[0m \u001b[1;33m=\u001b[0m \u001b[0mliste_temps\u001b[0m\u001b[1;33m(\u001b[0m\u001b[0mpas\u001b[0m\u001b[1;33m,\u001b[0m\u001b[0mtemps\u001b[0m\u001b[1;33m)\u001b[0m\u001b[1;33m\u001b[0m\u001b[1;33m\u001b[0m\u001b[0m\n\u001b[0m\u001b[0;32m      6\u001b[0m     \u001b[0mvitesse\u001b[0m\u001b[1;33m.\u001b[0m\u001b[0mappend\u001b[0m\u001b[1;33m(\u001b[0m\u001b[0mordre1_euler\u001b[0m\u001b[1;33m(\u001b[0m\u001b[0mKc\u001b[0m\u001b[1;33m,\u001b[0m\u001b[0mtau\u001b[0m\u001b[1;33m,\u001b[0m\u001b[0mU0\u001b[0m\u001b[1;33m,\u001b[0m\u001b[0mtemps\u001b[0m\u001b[1;33m)\u001b[0m\u001b[1;33m)\u001b[0m\u001b[1;33m\u001b[0m\u001b[1;33m\u001b[0m\u001b[0m\n",
      "\u001b[1;31mNameError\u001b[0m: name 'liste_temps' is not defined"
     ]
    }
   ],
   "source": [
    "liste_pas = [0.2,0.4,0.6]\n",
    "vitesse = []\n",
    "temps = []\n",
    "\n",
    "for pas in liste_pas :\n",
    "    temps.append(liste_temps(pas,temps))\n",
    "    vitesse.append(ordre1_euler(Kc,tau,U0,temps))"
   ]
  },
  {
   "cell_type": "code",
   "execution_count": null,
   "metadata": {},
   "outputs": [],
   "source": [
    "#importation du module graphique de python\n",
    "import matplotlib.pyplot as plt\n",
    "\n",
    "#temps\n",
    "for i in range(3):\n",
    "    plt.plot(temps[i],vitesse[i], label = 'pas de {}'.format(liste_pas[i]))\n",
    "\n",
    "#affichage\n",
    "plt.xlabel('t')\n",
    "plt.ylabel('v(t)')\n",
    "plt.legend()\n",
    "plt.show()"
   ]
  }
 ],
 "metadata": {
  "kernelspec": {
   "display_name": "Python 3",
   "language": "python",
   "name": "python3"
  },
  "language_info": {
   "codemirror_mode": {
    "name": "ipython",
    "version": 3
   },
   "file_extension": ".py",
   "mimetype": "text/x-python",
   "name": "python",
   "nbconvert_exporter": "python",
   "pygments_lexer": "ipython3",
   "version": "3.6.7"
  },
  "toc": {
   "base_numbering": 1,
   "nav_menu": {
    "height": "266.4px",
    "width": "160px"
   },
   "number_sections": true,
   "sideBar": true,
   "skip_h1_title": false,
   "title_cell": "Table of Contents",
   "title_sidebar": "Plan",
   "toc_cell": false,
   "toc_position": {
    "height": "549.6px",
    "left": "9px",
    "top": "34.1667px",
    "width": "316.2px"
   },
   "toc_section_display": true,
   "toc_window_display": true
  }
 },
 "nbformat": 4,
 "nbformat_minor": 2
}
