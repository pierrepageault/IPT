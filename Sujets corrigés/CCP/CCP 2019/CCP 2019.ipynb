{
 "cells": [
  {
   "cell_type": "markdown",
   "metadata": {},
   "source": [
    "## **PARTIE I - Présentation**"
   ]
  },
  {
   "cell_type": "markdown",
   "metadata": {},
   "source": [
    "**Q1.** Nombre maximal d'employés par site :  $7^7$  \n",
    "Nombre maximale de sites :  $2^3$  \n",
    "Réponse justifiée : $3$ bit permettent de stocker $2^3$ sites et il y a $7$ choix pour chacun des $7$ caractères i.e. $7^7$ possibilités. Cette technique est suffisante car $5<2^3 = 8$ et $100<7^7$."
   ]
  },
  {
   "cell_type": "markdown",
   "metadata": {},
   "source": [
    "## **PARTIE II - Distance de _Levenshtein_**"
   ]
  },
  {
   "cell_type": "markdown",
   "metadata": {},
   "source": [
    "**Q2.** On va utiliser le `slicing` (valable également pour les chaînes de caractères), et la `concaténation.`  \n",
    "1) _Première séquence_  \n",
    "Valeur de s avant transformation : 'Auttame'    \n",
    "Nom de la transformation : _supprimer_  \n",
    "Code Python : \n",
    "\n",
    "        s = s[:3] + s[4:]\n",
    "2) _Deuxième séquence_  \n",
    "Valeur de s avant transformation : 'Autame'     \n",
    "Nom de la transformation : _remplacer_  \n",
    "Code Python : \n",
    "\n",
    "    s = s[0:3] + 'o' + s[4:]\n",
    "\n",
    "2) _Troisième séquence_\n",
    "Valeur de s avant transformation : 'Autome'    \n",
    "Nom de la transformation : _insérer_  \n",
    "Code Python : \n",
    "        \n",
    "        s = s[:5] + 'n' + s[5:]\n",
    "\n",
    "_Coût de cette distance_ : 3"
   ]
  },
  {
   "cell_type": "markdown",
   "metadata": {},
   "source": [
    "**Q3.** Matrice après la ligne 14 :\n",
    "$$\n",
    "\\begin{pmatrix}\n",
    "0&1&2\\\\\n",
    "1&0&0\\\\\n",
    "2&0&0\\\\\n",
    "3&0&0\n",
    "\\end{pmatrix}\n",
    "$$\n",
    "Matrice après la ligne 26 :\n",
    "$$\n",
    "\\begin{pmatrix}\n",
    "0&1&2\\\\\n",
    "1&1&2\\\\\n",
    "2&2&1\\\\\n",
    "3&3&2\n",
    "\\end{pmatrix}\n",
    "$$"
   ]
  },
  {
   "cell_type": "markdown",
   "metadata": {},
   "source": [
    "**Q4.** Les boucles `for` des lignes $11$ et $13$ sont en complexité linéaire ($O(n)$ et $O(m)$) car le corps de ces boucles est en complexité constante. Les boucles `for` imbriquées des lignes $15$ et $16$ apportent elles une complexité en $O(mn)$ car la boucle conditionnelle de la ligne $17$ a une complexité constante. Le reste des instructions de cette fonction étant de complexité constante, la complexité global de cet algorithme est en $O(mn)$."
   ]
  },
  {
   "cell_type": "markdown",
   "metadata": {},
   "source": [
    "**Q5.** Pour chaque couple de codes distincts, on teste si la distance de Levenshtein entre ces deux codes est inférieure ou égale à $3$. Si c'est le cas, on supprime ces deux codes. Si un des deux codes a déjà été supprimé, on ne fait rien. "
   ]
  },
  {
   "cell_type": "code",
   "execution_count": 3,
   "metadata": {},
   "outputs": [],
   "source": [
    "def code_bon_lvs(table_code:list)-> None:\n",
    "    n = len(table_code)\n",
    "    for i in range(n):\n",
    "        # Si c'est un code précédement, supprimé on ne fait rien\n",
    "        if table_code[i] != '0000000' : \n",
    "            # On commence à comparer à partir du code suivant\n",
    "            for j in range(i+1, n): \n",
    "                if levenshtein(table_code[i],table_code[j]) <= 3:\n",
    "                    table_code[j] = '0000000'    \n",
    "    return None"
   ]
  },
  {
   "cell_type": "markdown",
   "metadata": {},
   "source": [
    "**Q6.** Le calcul du pourcentage s'effectue classiquement en comptant le nombre de code nuls. L'arrondi entier est obtenu à l'aide de la commande `int()`. ¨Pour transformer un nombre en une chaine de caractère, on utilise la commande `str()`. "
   ]
  },
  {
   "cell_type": "code",
   "execution_count": 5,
   "metadata": {},
   "outputs": [],
   "source": [
    "def pourcentage_lvs(table_code:list) -> str:\n",
    "    \n",
    "    compteur = 0\n",
    "    \n",
    "    # On détermine le nombre de code nul\n",
    "    for code in table_code:\n",
    "        if code == '0000000': compteur += 1\n",
    "    \n",
    "    # le pourcentage doit être un entier\n",
    "    pourcentage = int(compteur/len(table_code)*100) \n",
    "    \n",
    "    return str(pourcentage) + '%' # concaténation"
   ]
  },
  {
   "cell_type": "markdown",
   "metadata": {},
   "source": [
    "## __Partie III - Gestion des données__"
   ]
  },
  {
   "cell_type": "markdown",
   "metadata": {},
   "source": [
    "**Q7.** On peut représenter les sites accessibles à un employé par un nombre binaire codé sur $5$ bits, le bit de poids fort codant le site $5$ ($1$ si accès, $0$ sinon, etc...). La valeur associé est alors la valeur décimale de ce nombre binaire. On accède au développement binaire d'une entier $x$ via les restes des divisions euclidiennes successives de $x$ par $2$.  "
   ]
  },
  {
   "cell_type": "code",
   "execution_count": 10,
   "metadata": {},
   "outputs": [],
   "source": [
    "def liste_site(x:int)->list:\n",
    "    \n",
    "    # Initialisation de la liste\n",
    "    L = []\n",
    "    \n",
    "    if x > 0b11111 : return L # La valeur est incorrecte\n",
    "\n",
    "    for i in range(5):\n",
    "        if x%2 == 1 : L.append(i+1) # les sites ne commencent pas à 0\n",
    "        x = x//2\n",
    "    \n",
    "    return L"
   ]
  },
  {
   "cell_type": "markdown",
   "metadata": {},
   "source": [
    "> _Pour définir un nombre en base 2, on utilise le préfixe `0b`._"
   ]
  },
  {
   "cell_type": "markdown",
   "metadata": {},
   "source": [
    "**Q8.** On suit le dictionnaire $\\pi$....\n",
    "    \n",
    "        SELECT nom, prenom, age \n",
    "        FROM Employes\n",
    "        WHERE age > 50"
   ]
  },
  {
   "cell_type": "markdown",
   "metadata": {},
   "source": [
    "**Q9.** Les sites $3$ et $4$ correspondent à la valeur $8+4=12$.\n",
    "        \n",
    "        SELECT email\n",
    "        FROM Employes\n",
    "        WHERE site = 12"
   ]
  },
  {
   "cell_type": "markdown",
   "metadata": {},
   "source": [
    "**Q10.** Les informations utiles sont dans deux tables différentes : il faut effectuer une jointure. Pour présenter les résultats pas ordre alphabétique, il faut utiliser la commande `ORDER BY`.\n",
    "\n",
    "        SELECT E.nom, LC.categorie\n",
    "        FROM Employes E\n",
    "            JOIN ListeCategories LC\n",
    "                ON E.code_categorie = LC.id\n",
    "        WHERE E.age >= 20\n",
    "        ORDER BY E.nom"
   ]
  },
  {
   "cell_type": "markdown",
   "metadata": {},
   "source": [
    "> _Pour simplifier l'écriture de la requête, on utilise le surnomage._"
   ]
  },
  {
   "cell_type": "markdown",
   "metadata": {},
   "source": [
    "**Q11.** On va utiliser une fonction d'agrégation (ici `COUNT()`) en regroupant par age (`GROUP BY`). Pour présenter les résultats par nombre décroissant de personne de même age, on utilise la commande `ORDER BY`.\n",
    "\n",
    "        SELECT age, COUNT(*) as NbEmployes\n",
    "        FROM Employes\n",
    "        GROUP BY age\n",
    "        ORDER BY NbEmployes DESC"
   ]
  },
  {
   "cell_type": "markdown",
   "metadata": {},
   "source": [
    "## __PARTIE IV - Codage des couleurs__"
   ]
  },
  {
   "cell_type": "markdown",
   "metadata": {},
   "source": [
    "**Q12.** Un pixel de couleur \"bleu\" (il y a plusieurs bleus...) a pour code RGB (0,0,255). Un blanc (couleur la plus claire) à pour code RGB (255,255,255). Le codage RGB (10,10,10) correspond à un gris foncé. "
   ]
  },
  {
   "cell_type": "markdown",
   "metadata": {},
   "source": [
    "**Q13.** Il y a 256 choix par couleur. Il y a donc $256^3$ couleurs distinctes codables en RGB. "
   ]
  },
  {
   "cell_type": "markdown",
   "metadata": {},
   "source": [
    "## __PARTIE V - Codage de l'information__"
   ]
  },
  {
   "cell_type": "markdown",
   "metadata": {},
   "source": [
    "**Q14.** On va utiliser la fonction `bin()`, associée à un _slicing_. Il faut par contre s'assurer que la chaine de caractère renvoyée possède toujours au moins $3$ caractères. On peut pour cela ajouter des '0' et renvoyer les $3$ derniers caractères. "
   ]
  },
  {
   "cell_type": "code",
   "execution_count": 18,
   "metadata": {},
   "outputs": [],
   "source": [
    "def bin2(x:int)->str:\n",
    "    \n",
    "    s = bin(x)[2:] # slicing\n",
    "    \n",
    "    # s doit contenir au moins 3 caractères\n",
    "    if len(s)<3 :\n",
    "        s = '00' + s\n",
    "        return s[-3:] # renvoyer les trois derniers caractères de s (slicing inversé)\n",
    "    else :\n",
    "        return s"
   ]
  },
  {
   "cell_type": "markdown",
   "metadata": {},
   "source": [
    "**Q15.** Après avoir testé que la chaîne est non-nulle, il suffit d'utiliser la commande `int()` qui peut prendre en argument une base de numération. \n",
    "\n",
    "Help on class int in module builtins:\n",
    "\n",
    "    class int(object)\n",
    "     |  int(x=0) -> integer\n",
    "     |  int(x, base=10) -> integer\n",
    "     |  \n",
    "     |  Convert a number or string to an integer, or return 0 if no arguments\n",
    "     |  are given.  If x is a number, return x.__int__().  For floating point\n",
    "     |  numbers, this truncates towards zero.\n",
    "     |  \n",
    "     |  If x is not a number or if base is given, then x must be a string,\n",
    "     |  bytes, or bytearray instance representing an integer literal in the\n",
    "     |  given base.  The literal can be preceded by '+' or '-' and be surrounded\n",
    "     |  by whitespace.  The base defaults to 10.  Valid bases are 0 and 2-36.\n",
    "     |  Base 0 means to interpret the base from the string as an integer literal.\n",
    "     |  >>> int('0b100', base=0)\n",
    "     |  4"
   ]
  },
  {
   "cell_type": "code",
   "execution_count": 20,
   "metadata": {},
   "outputs": [],
   "source": [
    "def num(c:str)->int:\n",
    "    \n",
    "    if c == '': return -1\n",
    "\n",
    "    return int(c,2)"
   ]
  },
  {
   "cell_type": "markdown",
   "metadata": {},
   "source": [
    "## __PARTIE VI - Décodage de l'information__"
   ]
  },
  {
   "cell_type": "markdown",
   "metadata": {},
   "source": [
    "**Q16.** On va créer une chaîne de caractères contenant les $7$ lettres et accéder à chacune d'entre elle via son indice (comme on le ferai pour une liste). On utilise pour cela la fonction `num()` précédement implémentée. "
   ]
  },
  {
   "cell_type": "code",
   "execution_count": 21,
   "metadata": {},
   "outputs": [],
   "source": [
    "def lettre(s:str)->str:\n",
    "    \n",
    "    c = 'ABCDEFG'\n",
    "    i = num(s)-1 # Les indices commencent à 0 en python\n",
    "    \n",
    "    return c[i]"
   ]
  },
  {
   "cell_type": "markdown",
   "metadata": {},
   "source": [
    "**Q17** Le bit de poid faible d'un entier est le reste de sa division euclidienne par $2$."
   ]
  },
  {
   "cell_type": "code",
   "execution_count": 24,
   "metadata": {},
   "outputs": [],
   "source": [
    "def bpf(im, posi):\n",
    "    px = im.getpixel(posi)\n",
    "    \n",
    "    c = ''\n",
    "    for val in px:\n",
    "        bf = val % 2\n",
    "        c = c + str(bf)\n",
    "        \n",
    "    return c"
   ]
  },
  {
   "cell_type": "markdown",
   "metadata": {},
   "source": [
    "**Q18** La fonction `valeur_delta` calcule la somme des trois composantes RGB du pixel de l'image `im` situé en position `posi` modulo $128-41=87$ puis ajoute $40$. Ensuite, si le résultat est impair, on ajoute $1$, de sorte a toujours obtenir un résultat pair. La fonction renvoie donc un entier pair dans l'intervalle $[40, 126]$."
   ]
  },
  {
   "cell_type": "markdown",
   "metadata": {},
   "source": [
    "**Q19.** On utilise les différentes fonctions précédement implémentées pour récupérer les $7$ lettres à l'aide d'une boucle `for` :"
   ]
  },
  {
   "cell_type": "code",
   "execution_count": 25,
   "metadata": {},
   "outputs": [],
   "source": [
    "def lecture_lettres(im, posi):\n",
    "    \n",
    "    # Données de l'image \n",
    "    imx = im.size[0] # Largeur de l'image\n",
    "    delta = valeur_delta(im, posi) # Valeur de delta\n",
    "    \n",
    "    c = ''\n",
    "    for i in range(7):\n",
    "        pos = position_bloc(posi, delta, imx, i+1) # Position du bloc i+1\n",
    "        c = c + lettre(bpf(im, pos)) # Ajout de la lettre correspondant au bloc i+1\n",
    "    \n",
    "    return c"
   ]
  },
  {
   "cell_type": "markdown",
   "metadata": {},
   "source": [
    "**Q20.** La fonction `lecture_code()` ajoute à la chaîne construite à l'aide de la fonction précédente (le code de $7$ lettres) le numéro du site d'origine. Elle renvoie donc le code complet stocké dans la photo d'un employé. "
   ]
  }
 ],
 "metadata": {
  "kernelspec": {
   "display_name": "Python 3",
   "language": "python",
   "name": "python3"
  },
  "language_info": {
   "codemirror_mode": {
    "name": "ipython",
    "version": 3
   },
   "file_extension": ".py",
   "mimetype": "text/x-python",
   "name": "python",
   "nbconvert_exporter": "python",
   "pygments_lexer": "ipython3",
   "version": "3.6.7"
  }
 },
 "nbformat": 4,
 "nbformat_minor": 2
}
